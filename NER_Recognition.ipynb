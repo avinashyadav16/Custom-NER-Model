{
 "cells": [
  {
   "cell_type": "code",
   "execution_count": 6,
   "metadata": {},
   "outputs": [
    {
     "name": "stderr",
     "output_type": "stream",
     "text": [
      "  0%|          | 0/30 [00:11<?, ?it/s]"
     ]
    },
    {
     "name": "stdout",
     "output_type": "stream",
     "text": [
      "Could not complete the operation after 3 retries: `NotFoundError :: Error code: 404 - {'error': {'message': 'The model `gpt-4` does not exist or you do not have access to it.', 'type': 'invalid_request_error', 'param': None, 'code': 'model_not_found'}}`\n"
     ]
    },
    {
     "name": "stderr",
     "output_type": "stream",
     "text": [
      "\n"
     ]
    },
    {
     "name": "stdout",
     "output_type": "stream",
     "text": [
      "Could not complete the operation after 3 retries: `NotFoundError :: Error code: 404 - {'error': {'message': 'The model `gpt-4` does not exist or you do not have access to it.', 'type': 'invalid_request_error', 'param': None, 'code': 'model_not_found'}}`\n"
     ]
    },
    {
     "ename": "RuntimeError",
     "evalue": "Could not complete the operation after 3 retries: `NotFoundError :: Error code: 404 - {'error': {'message': 'The model `gpt-4` does not exist or you do not have access to it.', 'type': 'invalid_request_error', 'param': None, 'code': 'model_not_found'}}`",
     "output_type": "error",
     "traceback": [
      "\u001b[1;31m---------------------------------------------------------------------------\u001b[0m",
      "\u001b[1;31mRuntimeError\u001b[0m                              Traceback (most recent call last)",
      "Cell \u001b[1;32mIn[6], line 16\u001b[0m\n\u001b[0;32m     14\u001b[0m clf \u001b[38;5;241m=\u001b[39m ZeroShotGPTClassifier(model\u001b[38;5;241m=\u001b[39m\u001b[38;5;124m\"\u001b[39m\u001b[38;5;124mgpt-4\u001b[39m\u001b[38;5;124m\"\u001b[39m)\n\u001b[0;32m     15\u001b[0m clf\u001b[38;5;241m.\u001b[39mfit(X,y)\n\u001b[1;32m---> 16\u001b[0m \u001b[43mclf\u001b[49m\u001b[38;5;241;43m.\u001b[39;49m\u001b[43mpredict\u001b[49m\u001b[43m(\u001b[49m\u001b[43mX\u001b[49m\u001b[43m)\u001b[49m\n",
      "File \u001b[1;32mc:\\Users\\avina\\AppData\\Local\\Programs\\Python\\Python312\\Lib\\site-packages\\skllm\\models\\_base\\classifier.py:238\u001b[0m, in \u001b[0;36mBaseClassifier.predict\u001b[1;34m(self, X, num_workers)\u001b[0m\n\u001b[0;32m    236\u001b[0m     warnings\u001b[38;5;241m.\u001b[39mwarn(\u001b[38;5;124m\"\u001b[39m\u001b[38;5;124mPassing num_workers to predict is temporary and will be removed in the future.\u001b[39m\u001b[38;5;124m\"\u001b[39m)\n\u001b[0;32m    237\u001b[0m \u001b[38;5;28;01mwith\u001b[39;00m ThreadPoolExecutor(max_workers\u001b[38;5;241m=\u001b[39mnum_workers) \u001b[38;5;28;01mas\u001b[39;00m executor:\n\u001b[1;32m--> 238\u001b[0m     predictions \u001b[38;5;241m=\u001b[39m \u001b[38;5;28;43mlist\u001b[39;49m\u001b[43m(\u001b[49m\u001b[43mtqdm\u001b[49m\u001b[43m(\u001b[49m\u001b[43mexecutor\u001b[49m\u001b[38;5;241;43m.\u001b[39;49m\u001b[43mmap\u001b[49m\u001b[43m(\u001b[49m\u001b[38;5;28;43mself\u001b[39;49m\u001b[38;5;241;43m.\u001b[39;49m\u001b[43m_predict_single\u001b[49m\u001b[43m,\u001b[49m\u001b[43m \u001b[49m\u001b[43mX\u001b[49m\u001b[43m)\u001b[49m\u001b[43m,\u001b[49m\u001b[43m \u001b[49m\u001b[43mtotal\u001b[49m\u001b[38;5;241;43m=\u001b[39;49m\u001b[38;5;28;43mlen\u001b[39;49m\u001b[43m(\u001b[49m\u001b[43mX\u001b[49m\u001b[43m)\u001b[49m\u001b[43m)\u001b[49m\u001b[43m)\u001b[49m\n\u001b[0;32m    240\u001b[0m \u001b[38;5;28;01mreturn\u001b[39;00m np\u001b[38;5;241m.\u001b[39marray(predictions)\n",
      "File \u001b[1;32mc:\\Users\\avina\\AppData\\Local\\Programs\\Python\\Python312\\Lib\\site-packages\\tqdm\\std.py:1181\u001b[0m, in \u001b[0;36mtqdm.__iter__\u001b[1;34m(self)\u001b[0m\n\u001b[0;32m   1178\u001b[0m time \u001b[38;5;241m=\u001b[39m \u001b[38;5;28mself\u001b[39m\u001b[38;5;241m.\u001b[39m_time\n\u001b[0;32m   1180\u001b[0m \u001b[38;5;28;01mtry\u001b[39;00m:\n\u001b[1;32m-> 1181\u001b[0m \u001b[43m    \u001b[49m\u001b[38;5;28;43;01mfor\u001b[39;49;00m\u001b[43m \u001b[49m\u001b[43mobj\u001b[49m\u001b[43m \u001b[49m\u001b[38;5;129;43;01min\u001b[39;49;00m\u001b[43m \u001b[49m\u001b[43miterable\u001b[49m\u001b[43m:\u001b[49m\n\u001b[0;32m   1182\u001b[0m \u001b[43m        \u001b[49m\u001b[38;5;28;43;01myield\u001b[39;49;00m\u001b[43m \u001b[49m\u001b[43mobj\u001b[49m\n\u001b[0;32m   1183\u001b[0m \u001b[43m        \u001b[49m\u001b[38;5;66;43;03m# Update and possibly print the progressbar.\u001b[39;49;00m\n\u001b[0;32m   1184\u001b[0m \u001b[43m        \u001b[49m\u001b[38;5;66;43;03m# Note: does not call self.update(1) for speed optimisation.\u001b[39;49;00m\n",
      "File \u001b[1;32mc:\\Users\\avina\\AppData\\Local\\Programs\\Python\\Python312\\Lib\\concurrent\\futures\\_base.py:619\u001b[0m, in \u001b[0;36mExecutor.map.<locals>.result_iterator\u001b[1;34m()\u001b[0m\n\u001b[0;32m    616\u001b[0m \u001b[38;5;28;01mwhile\u001b[39;00m fs:\n\u001b[0;32m    617\u001b[0m     \u001b[38;5;66;03m# Careful not to keep a reference to the popped future\u001b[39;00m\n\u001b[0;32m    618\u001b[0m     \u001b[38;5;28;01mif\u001b[39;00m timeout \u001b[38;5;129;01mis\u001b[39;00m \u001b[38;5;28;01mNone\u001b[39;00m:\n\u001b[1;32m--> 619\u001b[0m         \u001b[38;5;28;01myield\u001b[39;00m \u001b[43m_result_or_cancel\u001b[49m\u001b[43m(\u001b[49m\u001b[43mfs\u001b[49m\u001b[38;5;241;43m.\u001b[39;49m\u001b[43mpop\u001b[49m\u001b[43m(\u001b[49m\u001b[43m)\u001b[49m\u001b[43m)\u001b[49m\n\u001b[0;32m    620\u001b[0m     \u001b[38;5;28;01melse\u001b[39;00m:\n\u001b[0;32m    621\u001b[0m         \u001b[38;5;28;01myield\u001b[39;00m _result_or_cancel(fs\u001b[38;5;241m.\u001b[39mpop(), end_time \u001b[38;5;241m-\u001b[39m time\u001b[38;5;241m.\u001b[39mmonotonic())\n",
      "File \u001b[1;32mc:\\Users\\avina\\AppData\\Local\\Programs\\Python\\Python312\\Lib\\concurrent\\futures\\_base.py:317\u001b[0m, in \u001b[0;36m_result_or_cancel\u001b[1;34m(***failed resolving arguments***)\u001b[0m\n\u001b[0;32m    315\u001b[0m \u001b[38;5;28;01mtry\u001b[39;00m:\n\u001b[0;32m    316\u001b[0m     \u001b[38;5;28;01mtry\u001b[39;00m:\n\u001b[1;32m--> 317\u001b[0m         \u001b[38;5;28;01mreturn\u001b[39;00m \u001b[43mfut\u001b[49m\u001b[38;5;241;43m.\u001b[39;49m\u001b[43mresult\u001b[49m\u001b[43m(\u001b[49m\u001b[43mtimeout\u001b[49m\u001b[43m)\u001b[49m\n\u001b[0;32m    318\u001b[0m     \u001b[38;5;28;01mfinally\u001b[39;00m:\n\u001b[0;32m    319\u001b[0m         fut\u001b[38;5;241m.\u001b[39mcancel()\n",
      "File \u001b[1;32mc:\\Users\\avina\\AppData\\Local\\Programs\\Python\\Python312\\Lib\\concurrent\\futures\\_base.py:456\u001b[0m, in \u001b[0;36mFuture.result\u001b[1;34m(self, timeout)\u001b[0m\n\u001b[0;32m    454\u001b[0m     \u001b[38;5;28;01mraise\u001b[39;00m CancelledError()\n\u001b[0;32m    455\u001b[0m \u001b[38;5;28;01melif\u001b[39;00m \u001b[38;5;28mself\u001b[39m\u001b[38;5;241m.\u001b[39m_state \u001b[38;5;241m==\u001b[39m FINISHED:\n\u001b[1;32m--> 456\u001b[0m     \u001b[38;5;28;01mreturn\u001b[39;00m \u001b[38;5;28;43mself\u001b[39;49m\u001b[38;5;241;43m.\u001b[39;49m\u001b[43m__get_result\u001b[49m\u001b[43m(\u001b[49m\u001b[43m)\u001b[49m\n\u001b[0;32m    457\u001b[0m \u001b[38;5;28;01melse\u001b[39;00m:\n\u001b[0;32m    458\u001b[0m     \u001b[38;5;28;01mraise\u001b[39;00m \u001b[38;5;167;01mTimeoutError\u001b[39;00m()\n",
      "File \u001b[1;32mc:\\Users\\avina\\AppData\\Local\\Programs\\Python\\Python312\\Lib\\concurrent\\futures\\_base.py:401\u001b[0m, in \u001b[0;36mFuture.__get_result\u001b[1;34m(self)\u001b[0m\n\u001b[0;32m    399\u001b[0m \u001b[38;5;28;01mif\u001b[39;00m \u001b[38;5;28mself\u001b[39m\u001b[38;5;241m.\u001b[39m_exception:\n\u001b[0;32m    400\u001b[0m     \u001b[38;5;28;01mtry\u001b[39;00m:\n\u001b[1;32m--> 401\u001b[0m         \u001b[38;5;28;01mraise\u001b[39;00m \u001b[38;5;28mself\u001b[39m\u001b[38;5;241m.\u001b[39m_exception\n\u001b[0;32m    402\u001b[0m     \u001b[38;5;28;01mfinally\u001b[39;00m:\n\u001b[0;32m    403\u001b[0m         \u001b[38;5;66;03m# Break a reference cycle with the exception in self._exception\u001b[39;00m\n\u001b[0;32m    404\u001b[0m         \u001b[38;5;28mself\u001b[39m \u001b[38;5;241m=\u001b[39m \u001b[38;5;28;01mNone\u001b[39;00m\n",
      "File \u001b[1;32mc:\\Users\\avina\\AppData\\Local\\Programs\\Python\\Python312\\Lib\\concurrent\\futures\\thread.py:58\u001b[0m, in \u001b[0;36m_WorkItem.run\u001b[1;34m(self)\u001b[0m\n\u001b[0;32m     55\u001b[0m     \u001b[38;5;28;01mreturn\u001b[39;00m\n\u001b[0;32m     57\u001b[0m \u001b[38;5;28;01mtry\u001b[39;00m:\n\u001b[1;32m---> 58\u001b[0m     result \u001b[38;5;241m=\u001b[39m \u001b[38;5;28;43mself\u001b[39;49m\u001b[38;5;241;43m.\u001b[39;49m\u001b[43mfn\u001b[49m\u001b[43m(\u001b[49m\u001b[38;5;241;43m*\u001b[39;49m\u001b[38;5;28;43mself\u001b[39;49m\u001b[38;5;241;43m.\u001b[39;49m\u001b[43margs\u001b[49m\u001b[43m,\u001b[49m\u001b[43m \u001b[49m\u001b[38;5;241;43m*\u001b[39;49m\u001b[38;5;241;43m*\u001b[39;49m\u001b[38;5;28;43mself\u001b[39;49m\u001b[38;5;241;43m.\u001b[39;49m\u001b[43mkwargs\u001b[49m\u001b[43m)\u001b[49m\n\u001b[0;32m     59\u001b[0m \u001b[38;5;28;01mexcept\u001b[39;00m \u001b[38;5;167;01mBaseException\u001b[39;00m \u001b[38;5;28;01mas\u001b[39;00m exc:\n\u001b[0;32m     60\u001b[0m     \u001b[38;5;28mself\u001b[39m\u001b[38;5;241m.\u001b[39mfuture\u001b[38;5;241m.\u001b[39mset_exception(exc)\n",
      "File \u001b[1;32mc:\\Users\\avina\\AppData\\Local\\Programs\\Python\\Python312\\Lib\\site-packages\\skllm\\models\\_base\\classifier.py:181\u001b[0m, in \u001b[0;36mBaseClassifier._predict_single\u001b[1;34m(self, x)\u001b[0m\n\u001b[0;32m    179\u001b[0m prompt_dict \u001b[38;5;241m=\u001b[39m \u001b[38;5;28mself\u001b[39m\u001b[38;5;241m.\u001b[39m_get_prompt(x)\n\u001b[0;32m    180\u001b[0m \u001b[38;5;66;03m# this will be inherited from the LLM\u001b[39;00m\n\u001b[1;32m--> 181\u001b[0m prediction \u001b[38;5;241m=\u001b[39m \u001b[38;5;28;43mself\u001b[39;49m\u001b[38;5;241;43m.\u001b[39;49m\u001b[43m_get_chat_completion\u001b[49m\u001b[43m(\u001b[49m\u001b[43mmodel\u001b[49m\u001b[38;5;241;43m=\u001b[39;49m\u001b[38;5;28;43mself\u001b[39;49m\u001b[38;5;241;43m.\u001b[39;49m\u001b[43mmodel\u001b[49m\u001b[43m,\u001b[49m\u001b[43m \u001b[49m\u001b[38;5;241;43m*\u001b[39;49m\u001b[38;5;241;43m*\u001b[39;49m\u001b[43mprompt_dict\u001b[49m\u001b[43m)\u001b[49m\n\u001b[0;32m    182\u001b[0m prediction \u001b[38;5;241m=\u001b[39m \u001b[38;5;28mself\u001b[39m\u001b[38;5;241m.\u001b[39m_extract_out_label(prediction)\n\u001b[0;32m    183\u001b[0m \u001b[38;5;66;03m# this will be inherited from the sl/ml mixin\u001b[39;00m\n",
      "File \u001b[1;32mc:\\Users\\avina\\AppData\\Local\\Programs\\Python\\Python312\\Lib\\site-packages\\skllm\\llm\\gpt\\mixin.py:138\u001b[0m, in \u001b[0;36mGPTTextCompletionMixin._get_chat_completion\u001b[1;34m(self, model, messages, system_message, **kwargs)\u001b[0m\n\u001b[0;32m    136\u001b[0m     \u001b[38;5;28;01mfor\u001b[39;00m message \u001b[38;5;129;01min\u001b[39;00m messages:\n\u001b[0;32m    137\u001b[0m         msgs\u001b[38;5;241m.\u001b[39mappend(construct_message(message[\u001b[38;5;124m\"\u001b[39m\u001b[38;5;124mrole\u001b[39m\u001b[38;5;124m\"\u001b[39m], message[\u001b[38;5;124m\"\u001b[39m\u001b[38;5;124mcontent\u001b[39m\u001b[38;5;124m\"\u001b[39m]))\n\u001b[1;32m--> 138\u001b[0m completion \u001b[38;5;241m=\u001b[39m \u001b[43mget_chat_completion\u001b[49m\u001b[43m(\u001b[49m\n\u001b[0;32m    139\u001b[0m \u001b[43m    \u001b[49m\u001b[43mmsgs\u001b[49m\u001b[43m,\u001b[49m\n\u001b[0;32m    140\u001b[0m \u001b[43m    \u001b[49m\u001b[38;5;28;43mself\u001b[39;49m\u001b[38;5;241;43m.\u001b[39;49m\u001b[43m_get_openai_key\u001b[49m\u001b[43m(\u001b[49m\u001b[43m)\u001b[49m\u001b[43m,\u001b[49m\n\u001b[0;32m    141\u001b[0m \u001b[43m    \u001b[49m\u001b[38;5;28;43mself\u001b[39;49m\u001b[38;5;241;43m.\u001b[39;49m\u001b[43m_get_openai_org\u001b[49m\u001b[43m(\u001b[49m\u001b[43m)\u001b[49m\u001b[43m,\u001b[49m\n\u001b[0;32m    142\u001b[0m \u001b[43m    \u001b[49m\u001b[43mmodel\u001b[49m\u001b[43m,\u001b[49m\n\u001b[0;32m    143\u001b[0m \u001b[43m    \u001b[49m\u001b[43mjson_response\u001b[49m\u001b[38;5;241;43m=\u001b[39;49m\u001b[38;5;28;43mself\u001b[39;49m\u001b[38;5;241;43m.\u001b[39;49m\u001b[43m_prefer_json_output\u001b[49m\u001b[43m,\u001b[49m\n\u001b[0;32m    144\u001b[0m \u001b[43m\u001b[49m\u001b[43m)\u001b[49m\n\u001b[0;32m    145\u001b[0m \u001b[38;5;28;01mreturn\u001b[39;00m completion\n",
      "File \u001b[1;32mc:\\Users\\avina\\AppData\\Local\\Programs\\Python\\Python312\\Lib\\site-packages\\skllm\\llm\\gpt\\completion.py:28\u001b[0m, in \u001b[0;36mget_chat_completion\u001b[1;34m(messages, openai_key, openai_org, model, json_response)\u001b[0m\n\u001b[0;32m     26\u001b[0m \u001b[38;5;28;01melif\u001b[39;00m api \u001b[38;5;241m==\u001b[39m \u001b[38;5;124m\"\u001b[39m\u001b[38;5;124mcustom_url\u001b[39m\u001b[38;5;124m\"\u001b[39m \u001b[38;5;129;01mand\u001b[39;00m url \u001b[38;5;129;01mis\u001b[39;00m \u001b[38;5;28;01mNone\u001b[39;00m:\n\u001b[0;32m     27\u001b[0m     \u001b[38;5;28;01mraise\u001b[39;00m \u001b[38;5;167;01mValueError\u001b[39;00m(\u001b[38;5;124m\"\u001b[39m\u001b[38;5;124mYou are using the `custom_url` backend but no custom URL was provided. Please set it using `SKLLMConfig.set_gpt_url(<url>)`.\u001b[39m\u001b[38;5;124m\"\u001b[39m)\n\u001b[1;32m---> 28\u001b[0m \u001b[38;5;28;01mreturn\u001b[39;00m \u001b[43m_oai_get_chat_completion\u001b[49m\u001b[43m(\u001b[49m\n\u001b[0;32m     29\u001b[0m \u001b[43m    \u001b[49m\u001b[43mmessages\u001b[49m\u001b[43m,\u001b[49m\n\u001b[0;32m     30\u001b[0m \u001b[43m    \u001b[49m\u001b[43mopenai_key\u001b[49m\u001b[43m,\u001b[49m\n\u001b[0;32m     31\u001b[0m \u001b[43m    \u001b[49m\u001b[43mopenai_org\u001b[49m\u001b[43m,\u001b[49m\n\u001b[0;32m     32\u001b[0m \u001b[43m    \u001b[49m\u001b[43mmodel\u001b[49m\u001b[43m,\u001b[49m\n\u001b[0;32m     33\u001b[0m \u001b[43m    \u001b[49m\u001b[43mapi\u001b[49m\u001b[38;5;241;43m=\u001b[39;49m\u001b[43mapi\u001b[49m\u001b[43m,\u001b[49m\n\u001b[0;32m     34\u001b[0m \u001b[43m    \u001b[49m\u001b[43mjson_response\u001b[49m\u001b[38;5;241;43m=\u001b[39;49m\u001b[43mjson_response\u001b[49m\u001b[43m,\u001b[49m\n\u001b[0;32m     35\u001b[0m \u001b[43m\u001b[49m\u001b[43m)\u001b[49m\n",
      "File \u001b[1;32mc:\\Users\\avina\\AppData\\Local\\Programs\\Python\\Python312\\Lib\\site-packages\\skllm\\utils\\__init__.py:117\u001b[0m, in \u001b[0;36mretry.<locals>.decorator.<locals>.wrapper\u001b[1;34m(*args, **kwargs)\u001b[0m\n\u001b[0;32m    112\u001b[0m err_msg \u001b[38;5;241m=\u001b[39m (\n\u001b[0;32m    113\u001b[0m     \u001b[38;5;124mf\u001b[39m\u001b[38;5;124m\"\u001b[39m\u001b[38;5;124mCould not complete the operation after \u001b[39m\u001b[38;5;132;01m{\u001b[39;00mmax_retries\u001b[38;5;132;01m}\u001b[39;00m\u001b[38;5;124m retries:\u001b[39m\u001b[38;5;124m\"\u001b[39m\n\u001b[0;32m    114\u001b[0m     \u001b[38;5;124mf\u001b[39m\u001b[38;5;124m\"\u001b[39m\u001b[38;5;124m `\u001b[39m\u001b[38;5;132;01m{\u001b[39;00merror_type\u001b[38;5;132;01m}\u001b[39;00m\u001b[38;5;124m :: \u001b[39m\u001b[38;5;132;01m{\u001b[39;00merror_msg\u001b[38;5;132;01m}\u001b[39;00m\u001b[38;5;124m`\u001b[39m\u001b[38;5;124m\"\u001b[39m\n\u001b[0;32m    115\u001b[0m )\n\u001b[0;32m    116\u001b[0m \u001b[38;5;28mprint\u001b[39m(err_msg)\n\u001b[1;32m--> 117\u001b[0m \u001b[38;5;28;01mraise\u001b[39;00m \u001b[38;5;167;01mRuntimeError\u001b[39;00m(err_msg)\n",
      "\u001b[1;31mRuntimeError\u001b[0m: Could not complete the operation after 3 retries: `NotFoundError :: Error code: 404 - {'error': {'message': 'The model `gpt-4` does not exist or you do not have access to it.', 'type': 'invalid_request_error', 'param': None, 'code': 'model_not_found'}}`"
     ]
    }
   ],
   "source": [
    "# Import the necessary modules\n",
    "from skllm.datasets import get_classification_dataset\n",
    "from skllm.config import SKLLMConfig\n",
    "from skllm.models.gpt.classification.zero_shot import ZeroShotGPTClassifier\n",
    "\n",
    "# Configure the credentials\n",
    "SKLLMConfig.set_openai_key(\"<YOUR_KEY>\")\n",
    "SKLLMConfig.set_openai_org(\"<YOUR_ORGANIZATION_ID>\")\n",
    "\n",
    "# Load a demo dataset\n",
    "X, y = get_classification_dataset() # labels: positive, negative, neutral\n",
    "\n",
    "# Initialize the model and make the predictions\n",
    "clf = ZeroShotGPTClassifier(model=\"gpt-4\")\n",
    "clf.fit(X,y)\n",
    "clf.predict(X)"
   ]
  },
  {
   "cell_type": "code",
   "execution_count": null,
   "metadata": {},
   "outputs": [],
   "source": [
    "from skllm.models.gpt.tagging.ner import GPTExplainableNER as NER\n",
    "\n",
    "entities = {\n",
    "  \"PERSON\": \"A name of an individual.\",\n",
    "  \"ORGANIZATION\": \"A name of a company.\",\n",
    "  \"DATE\": \"A specific time reference.\"\n",
    "}\n",
    "\n",
    "data = [\n",
    "  \"Tim Cook announced new Apple products in San Francisco on June 3, 2022.\",\n",
    "  \"Elon Musk visited the Tesla factory in Austin on January 10, 2021.\",\n",
    "  \"Mark Zuckerberg introduced Facebook Metaverse in Silicon Valley on May 5, 2023.\"\n",
    "]\n",
    "\n",
    "ner = NER(entities=entities, display_predictions=True)\n",
    "tagged = ner.fit_transform(data)"
   ]
  },
  {
   "cell_type": "code",
   "execution_count": 1,
   "metadata": {},
   "outputs": [],
   "source": [
    "from skllm.models.gpt.tagging.ner import GPTExplainableNER as NER"
   ]
  },
  {
   "cell_type": "code",
   "execution_count": 2,
   "metadata": {},
   "outputs": [],
   "source": [
    "entities = {\n",
    "    \"Job_Title\": \"This entity represents the specific title or name of the job position being advertised.\",\n",
    "    \"Job_Responsibilities\": \"List of responsibilities expected from the job role. Interns should extract and list all responsibilities mentioned in the job description.\",\n",
    "    \"Skills_Required\": \"Interns should identify and list all skills (both technical and soft skills) required for the job role as mentioned in the description.\",\n",
    "    \"Programming_Languages\": \"List of programming languages mentioned as required skills for the job.\",\n",
    "    \"Frameworks_and_Libraries\": \"List of specific frameworks and libraries mentioned in the job description.\",\n",
    "    \"Databases\": \"List of databases mentioned as required skills or knowledge.\",\n",
    "    \"Developer_Tools\": \"Specific tools or software platforms mentioned in the job description that developers are expected to use.\",\n",
    "    \"Softskills\": \"List of soft skills or interpersonal skills mentioned in the job description.\",\n",
    "    \"Job_Level\": \"Indicates the seniority level of the job (e.g., Entry-level, Associates, Mid, Senior).\",\n",
    "    \"Job_Industry_Type\": \"Specifies the industry or sector to which the job pertains.\",\n",
    "    \"Job_Type\": \"Specifies the type of employment (Permanent, Full Time, Contract, Hour-based).\",\n",
    "    \"Location\": \"Specifies the location of the job (city, state, country).\",\n",
    "    \"Years_of_Experience_required\": \"Specifies the minimum years of experience required for the job.\",\n",
    "    \"Education_Qualification_required\": \"Specifies the required educational qualifications for the job (degrees, certifications).\",\n",
    "    \"Certificates_Required\": \"Specifies any specific certificates or licenses required for the job.\",\n",
    "    \"Job_terms_and_conditions\": \"Specifies any specific terms and conditions related to the job (e.g., immediate joiner, notice period, bond policy).\",\n",
    "    \"Job_Shift\": \"Specifies the shift timing or work schedule for the job (e.g., Hybrid, Onsite, Remote, Day Shift, Night Shift, UK Shift, US Shift).\",\n",
    "    \"Salary_Range\": \"Specifies the salary range or compensation package for the job.\",\n",
    "    \"No_of_Openings\": \"Specifies the number of job openings available.\",\n",
    "    \"Company_Name\": \"Specifies the name of the company or organization offering the job.\",\n",
    "    \"Company_Description\": \"Provides a brief description of the company or organization.\",\n",
    "    \"Company_Rating\": \"Specifies the rating or reputation of the company.\",\n",
    "    \"Benefits\": \"Lists the benefits offered to employees (healthcare, retirement plans, etc.).\",\n",
    "    \"Date_Published\": \"Specifies the date when the job listing was published.\",\n",
    "    \"Job_Platform\": \"Specifies the platform or website where the job is listed.\"\n",
    "}"
   ]
  },
  {
   "cell_type": "code",
   "execution_count": 3,
   "metadata": {},
   "outputs": [],
   "source": [
    "data = {\n",
    "    \"The job title is Ab Initio Architect. The company name is Infosys. The job location is Bengaluru. The work experience required is 8 11 years. The company's rating is 3.8. The number of openings is 17. The job posting date is 2024-05-22. The minimum salary is Not Given. The maximum salary is Not Given. The benefits include 'Work From Home', 'Cafeteria', 'Health Insurance', 'Soft Skill Training', 'Gym', 'Job Training'. The education details are UG: B.Tech/B.E. in Any Specialization, PG: Any Postgraduate'. About the company: About company Infosys is a global leader in next-generation digital services and consulting. Over 300,000 of our people work to amplify human potential and create the next opportunity for people, businesses and communities. With over four decades of experience in managing the systems and workings of global enterprises, we expertly steer clients, in more than 50 countries, as they navigate their digital transformation powered by the cloud. We enable them with an AI-powered core, empower the business with agile digital at scale and drive continuous improvement with always-on learning through the transfer of digital skills, expertise, and ideas from our innovation ecosystem. We are deeply committed to being a well-governed, environmentally sustainable organization where diverse talent thrives in an inclusive workplace. Company Info Address: . Awarded by AmbitionBox Winner of Ambitionbox Best Places to Work in India 2022 Learn more. Job description: Responsibilities A day in the life of an Infoscion As part of the Infosys delivery team, your primary role would be to provide best fit architectural solutions for one or more projects. You would also provide technology consultation and assist in defining scope and sizing of work You would implement solutions, create technology differentiation and leverage partner technologies. Additionally, you would participate in competency development with the objective of ensuring the best-fit and high quality technical solutions. You would be a key contributor in creating thought leadership within the area of technology specialization and in compliance with guidelines, policies and norms of Infosys.If you think you fit right in to help our clients navigate their next in their digital transformation journey, this is the place for you! Technical and Professional Requirements: Primary skills:Technology->Data Management - Data Integration->Ab Initio Preferred Skills: Technology->Data Management - Data Integration->Ab Initio Additional Responsibilities: Knowledge of architectural design patterns, performance tuning, database and functional designs Hands-on experience in Service Oriented Architecture Ability to lead solution development and delivery for the design solutions Experience in designing high level and low level documents is a plus Good understanding of SDLC is a pre-requisite Awareness of latest technologies and trends Logical thinking and problem solving skills along with an ability to collaborate Educational Requirements Bachelor of Engineering Service Line Data & Analytics Unit * Location of posting is subject to business requirements. Role: Technical Architect. Industry Type: IT Services & Consulting. Department: Engineering - Software & QA. Employment Type: Full Time, Permanent. Role Category: Software Development.\",\n",
    "    \"The job title is Abinitio Architect. The company name is Essenware. The job location is Kolkata Mumbai New Delhi Hyderabad Pune Chennai Bengaluru. The work experience required is 5 8 years. The company's rating is 4.7. The number of openings is 1. The job posting date is 2024-05-21. The minimum salary is Not Given. The maximum salary is Not Given. The benefits include 'Not given'. The education details are UG: Any Graduate, PG: Any Postgraduate'. About the company: About company ESSENWARE PRIVATE LIMITED has committed to provide high quality of Consulting Services and Corporate Trainings to our customers in locally in India and across the globe.. Job description: To plan, execute, control and ensure closure of projects, while managing people and delivery excellence in all parameters of time, cost and processes in projects Drive execution of the project roadmap and manage entire project lifecycle from strategy planning to tactical activities Ensure high customer connect for the project, building processes for all relevant team members to engage with the customer Ensure completion of Project Satisfaction Report and relevant survey and feedback mechanisms Guide the launch of project from concept to delivery by managing the project and governing the overall budget Articulate and explain designs and constraints to stakeholders after understanding customer perspective Ensure compliance to internal tools Sensitize the team to go beyond the immediate deliverables to assess how to provide greater value to the customer on an ongoing basis Determine methodology and processes for quality planning (in concurrence with project planning), define standards to use, document quality criteria and quality measurement processes, face audits and project process monitoring Review project profitability and other agreed parameters and provide relevant status reports to the management and customer Ensure steering committee meetings and other regular meetings with customer Develop supporting documentation and materials including demonstrations, presentations and other tools to ensure solutions are easy to manage and repeatable Create and maintain project level dashboards to enable effective project management Promote team work, motivate, coach and develop people in the team to build functional skills and desired behaviours to deliver results Ensure high levels of engagement within the team Manage complex scenarios effectively like business risks, multiple vendor issues, code red situations etc and customer expectations without impacting associates adversely Provide technical and other guidance as required to the team and assess the performance of the associates . Role: Solution Architect. Industry Type: IT Services & Consulting. Department: Engineering - Software & QA. Employment Type: Full Time, Permanent. Role Category: Software Development.\",\n",
    "    \"The job title is ABKJ ArchitectDesigner. The company name is ABKJ. The job location is Bengaluru. The work experience required is 4 6 years. The company's rating is 3.7. The number of openings is 2. The job posting date is 2024-05-21. The minimum salary is Not Given. The maximum salary is Not Given. The benefits include 'Health Insurance', 'Work From Home', 'Job Training', 'Team Outings', 'Soft Skill Training', 'Free Food'. The education details are UG: B.Arch in Any Specialization'. About the company: About company Andersen Bjornstad Kane Jacobs Inc. (ABKJ) is a multi-disciplinary design firm well recognized for providing Architecture, Engineering, and BIM services. Founded in 1956, our innovative designs, talented team, and design resources are delivered from our global locations in Seattle, Washington, USA, and Bangalore, India. We are actively searching and recruiting new members to join our team to sustain continued growth of the firm and project needs. Currently, ABKJ is in search of Architectural Designers to add their talent, skills, vision, and local knowledge for projects in both US and India. Company Info Link: ABKJ website Address: Level 7, The Executive Center MFar Greenheart Manyata Tech Park Hebbal Outer Ring Road, Bangalore, Bengaluru (Bangalore) Urban, BANGALORE, Karnataka, India. Job description: Architect Job Responsibilities: Research, programs, plans, designs, and administer building projects for clients, applying knowledge of planning, architectural design, construction detailing, construction procedures, and building codes, and building materials and systems. Produce conceptual plans, renderings, and documents. Planning, programming, and layout of project(s); coordinates and integrates engineering elements into unified design for client review and approval. Utilizes computer-assisted design software and equipment to prepare project designs and plans. Ability to manage, delegate, review, develop, and production of construction documents in a full-fledged BIM (Revit) environment. Work and communicate with US Principals and Project Managers to then direct, supervise, and monitor activities of supporting team engaged in preparing drawings and specification documents for the Conceptual Design Phase, Schematic Design Phase, and/or the Detailed Design Phase of a project. Interfaces with US Principal Architect, local Director, project managers, engineers, and BIM team and clearly understand comments, guidance, and special requirements to implement and apply to projects. Assist US Principal for local India service on project management, design development, construction administration, and dealing with the clients. Works in tandem with highly collaborative multi-discipline design teams. Assists in research and coordination of materials and products for project specifications. Attend design team meetings based on required times and physical or virtual locations Develop project schedules and assess manpower needs and resources Perform site visits and observations to evaluate existing conditions and construction work performed or completed Architect Qualifications / Skills: Ability to provide elegant and efficient design solutions Excellent oral and written English communication skills Analytical and problem-solving skills High attention to detail Ability to work under indirect supervision Effective interpersonal skills and collaborative management style to include teamwork and team building ability Comfortable with ambiguity and time spent outside of comfort zone acquiring new skills Technically creative and open-minded Flexibility in working hours to communicate and coordinate with US team members Ability to travel Education, Experience, and Licensing Requirements: Bachelors or Masters Degree in Architecture from an accredited institution 4-5 years of architectural experience preferably within an architecture firms field Understanding and knowledge of building codes, zoning regulations, building construction, building systems, and site requirements Proficiency in Revit, AutoCAD, SketchUp, Photoshop, Bluebeam, PlanGrid, and Microsoft Office suite is required Registered with Indian Council of Architects and local jurisdictional agencies If you are interested to be a part of the ABKJ team, please send your resume to HR-India@abkj.com, and to know more about us, please visit www.ABKJ.com and ABKJ LinkedIn page (https://www.linkedin.com/company/andersen-bjornstad-kane-jacobs-abkj/mycompany/). Please share this job posting with your professional network.. Role: Architect. Industry Type: Engineering & Construction. Department: UX, Design & Architecture. Employment Type: Full Time, Permanent. Role Category: Architecture & Interior Design.\",\n",
    "    \"The job title is AIOps Architect. The company name is Sutherland. The job location is Hyderabad Bangalore Rural. The work experience required is 5 10 years. The company's rating is 3.7. The number of openings is 2. The job posting date is 2024-05-23. The minimum salary is Not Given. The maximum salary is Not Given. The benefits include 'Not given'. The education details are UG: B.Tech/B.E. in Computers'. About the company: Not Given. Job description: Job Title: AIOps Architect Location: Hyderabad/Bangalore Job Type: Full-Time/Contract Experience Level: 5-10 years Job Description: As an AIOps Architect, you will be responsible for designing and implementing sophisticated AI based automated IT operations solutions that utilize machine learning, data science, and advanced analytics. Your expertise in log analytics, correlation engines, anomaly detection, tools integration, data pipelines, and AIOps platforms will be crucial in enhancing our IT service management (ITSM) and Site Reliability Engineering (SRE) practices. Key Responsibilities: Architecture & Design: Lead the architecture, design, and implementation of AIOps solutions, ensuring they are scalable, reliable, and high performing. Develop frameworks for log analytics to process and analyze large datasets. Correlation & Anomaly Detection: Design and build correlation engines to detect patterns and identify root causes of issues across IT environments. Implement anomaly detection systems to proactively identify and resolve potential problems. Tools Integration & Data Pipeline: Integrate AIOps tools with existing IT infrastructure and platforms to enhance operational efficiency. Design and implement robust data pipelines to ensure seamless data flow and processing across various systems. Observability & Telemetry: Develop observability strategies utilizing metrics, logs, and traces to monitor application and infrastructure health and performance. Implement telemetry solutions for real-time data collection and analysis. Machine Learning & Data Science: Apply machine learning and data science techniques to improve predictive maintenance, capacity planning, and incident management. Use advanced analytics to derive insights from operational data and enhance decision-making. Collaboration & Leadership: Collaborate with SRE, DevOps, and ITSM teams to integrate AIOps solutions into existing workflows. Provide technical leadership and mentorship to junior team members and stakeholders. Tooling & Technology: Expertise in the ELK (Elasticsearch, Logstash, Kibana) stack for centralized logging and analytics. Work with AIOps platforms to automate and optimize IT operations processes. Qualifications: Bachelors or Masters degree in Computer Science, Information Technology, or a related field. 8-10 years of experience in IT operations, with a focus on AIOps, log analytics, and observability. Proficient in designing and implementing correlation engines and anomaly detection systems. Strong experience with tools integration and data pipeline design. Deep understanding of SRE principles and ITSM processes. Hands-on experience with machine learning algorithms and data science techniques. Excellent problem-solving skills and ability to thrive in a fast-paced environment. Strong communication and collaboration skills. Preferred Skills: Experience with cloud platforms (AWS, Azure, GCP) and their monitoring tools. Knowledge of containerization and orchestration technologies (Docker, Kubernetes). Proficiency in programming and scripting languages (Python, Java, Bash). Experience with additional AIOps platforms and tools. Experience in building scalable AIOps platforms using machine learning and artificial intelligence frameworks. . Role: Other. Industry Type: IT Services & Consulting. Department: Other. Employment Type: Full Time, Permanent. Role Category: Other.\",\n",
    "    \"The job title is Anaplan Architect. The company name is Telemerge It Services. The job location is United Kingdom UK london. The work experience required is 10 12 years. The company's rating is 4.7. The number of openings is 1. The job posting date is 2024-05-22. The minimum salary is Not Given. The maximum salary is Not Given. The benefits include 'Not given'. The education details are UG: Any Graduate'. About the company: About company Telemerge is a team of dedicated and skilled professionals who are passionate about technology. We firmly believe that the power of technological innovation can bring about a positive transformation in the way businesses operate, and we work tirelessly towards achieving exactly that for all our customers. Company Info Address: FL 15, S No.634/2A, Madhusudan Park, , PUNE, Maharashtra, India. Job description: Experience : 10+ years Onsite UK Osterley three days office visit in the week. Ideal candidate will be Anaplan Certified Solution Architect. Enhancing the forecasting and planning of existing implementation within Finance to other functions like supply chain and procurement. Including new databases and models into consideration for forecasting models and planning. Implementing best practices within the forecasting models Experience in working with senior stakeholders, understanding their requirements, articulating the requirements into forecasting models, and generating the desired outcomes. Experience in delivering forecasting models on a regular basis to various stakeholders and enhancing the models based on inputs, feedback, and change in requirements. Experience working in an Agile delivery model. Prepared to work on BAU issues or any high priority issues flagged by the business or technology teams. Proficiently manage multi-model planning, ensuring seamless integration and efficient coordination . Role: Solution Architect. Industry Type: IT Services & Consulting. Department: Engineering - Software & QA. Employment Type: Full Time, Permanent. Role Category: Software Development.\"\n",
    "}"
   ]
  },
  {
   "cell_type": "code",
   "execution_count": null,
   "metadata": {},
   "outputs": [],
   "source": [
    "ner = NER(entities=entities, display_predictions = True)\n",
    "nered = ner.fit_transform(data)"
   ]
  }
 ],
 "metadata": {
  "kernelspec": {
   "display_name": "Python 3",
   "language": "python",
   "name": "python3"
  },
  "language_info": {
   "codemirror_mode": {
    "name": "ipython",
    "version": 3
   },
   "file_extension": ".py",
   "mimetype": "text/x-python",
   "name": "python",
   "nbconvert_exporter": "python",
   "pygments_lexer": "ipython3",
   "version": "3.12.2"
  }
 },
 "nbformat": 4,
 "nbformat_minor": 2
}
